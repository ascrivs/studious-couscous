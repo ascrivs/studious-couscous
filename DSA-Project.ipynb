{
 "cells": [
  {
   "attachments": {},
   "cell_type": "markdown",
   "id": "c503f1ea",
   "metadata": {},
   "source": [
    "<h2>Introduction</h2>\n",
    "<p>\n",
    "In this notebook we are going to apply an EDA the English Premier League player data set ranging from the 2015-16 to 2018-19 seasons. The dataset includes player positional data such as player age, fouls commited per season, season year scope, nation of the player, market value at beginning of season, and position of player.\n",
    "</p>\n",
    "<br>\n",
    "<hr>\n",
    "<br>\n",
    "<h3> About the dataset </h3>\n",
    "\n",
    "<p>\n",
    "Data is pulled from premierleague.com and graciously compiled into csvs <a href=\"https://www.kaggle.com/datasets/dortmund4436/premier-league-player-stats-from-2015-to-2018\" alt=\"link to kaggle data\"> here </a>.\n",
    "</p>\n",
    "\n",
    "\n",
    "<br>\n",
    "<hr>\n",
    "<br>\n",
    "<h4> Data Definitition </h4>\n",
    "\n",
    "<p>\n",
    "\n",
    "<strong> Player: </strong> Name of the player. <br>\n",
    "\n",
    "<strong> Season: </strong> The season expressed in the starting and ending year where the features are scoped. <br>\n",
    "\n",
    "<strong> Born: </strong> The year of the players birth. <br>\n",
    "\n",
    "<strong> Nation: </strong> The country the player represents. <br>\n",
    "\n",
    "<strong> Age: </strong> Number of years the player was during the season. <br>\n",
    "\n",
    "<strong> Squad: </strong> The club where the player was registered for the given season. <br>\n",
    "\n",
    "<strong> Previous Market Value: </strong> Market value of the player before the season started <br>\n",
    "\n",
    "<strong> Position: </strong> General position player plays in. <br>\n",
    "\n",
    "<strong> App: </strong> The number of appearances a player made for the specific season. <br>\n",
    "\n",
    "<strong>Minutes</strong>: The total number of minutes played by a player during a match.<br>\n",
    "\n",
    "<strong>Goals</strong>: The number of goals scored by a player during a match.<br>\n",
    "\n",
    "<strong>Passes</strong>: The total number of successful passes made by a player during a match.<br>\n",
    "\n",
    "<strong>Assists</strong>: The number of times a player has provided a pass or set up a goal-scoring opportunity for a teammate.<br>\n",
    "\n",
    "<strong>Yellow</strong>: The number of yellow cards received by a player during a match, indicating a caution from the referee.<br>\n",
    "\n",
    "<strong>Red</strong>: The number of red cards received by a player during a match, resulting in a dismissal from the game.<br>\n",
    "\n",
    "<strong>SubOn</strong>: The number of times a player has been substituted onto the field during a match.<br>\n",
    "\n",
    "<strong>SubOff</strong>: The number of times a player has been substituted off the field during a match.<br>\n",
    "\n",
    "<strong>Shots</strong>: The total number of shots taken by a player during a match.<br>\n",
    "\n",
    "<strong>SOT</strong>: The number of shots on target (SOT) taken by a player during a match, indicating shots that were aimed towards the goal.<br>\n",
    "\n",
    "<strong>HitPost</strong>: The number of times a player's shot has hit the goalpost during a match.<br>\n",
    "\n",
    "<strong>HeadClear</strong>: The number of times a player has successfully cleared the ball with their head during a match.<br>\n",
    "\n",
    "<strong>HeadGoal</strong>: The number of goals scored by a player using their head during a match.<br>\n",
    "\n",
    "<strong>PKScored</strong>: The number of penalty kicks successfully converted into goals by a player during a match.<br>\n",
    "\n",
    "<strong>FKGoal</strong>: The number of goals scored by a player from a free-kick during a match.<br>\n",
    "\n",
    "<strong>Offsides</strong>: The number of times a player has been caught in an offside position during a match.<br>\n",
    "\n",
    "<strong>ThrBall</strong>: The number of through balls played by a player during a match, indicating a pass that splits the opposing defense and reaches a teammate.<br>\n",
    "\n",
    "<strong>Misses</strong>: The number of shots or passes attempted by a player that did not reach the intended target.<br>\n",
    "\n",
    "<strong>Corners</strong>: The number of corner kicks taken by a player during a match.<br>\n",
    "\n",
    "<strong>Crosses</strong>: The number of crosses delivered by a player from wide areas into the opposition's penalty area during a match.<br>\n",
    "\n",
    "<strong>Blocks</strong>: The number of times a player has blocked an opponent's shot or pass during a match.<br>\n",
    "\n",
    "<strong>Interceptions</strong>: The number of times a player has intercepted the ball from an opponent during a match.<br>\n",
    "\n",
    "<strong>Fouls</strong>: The number of fouls committed by a player during a match.<br>\n",
    "\n",
    "<strong>Last man</strong>: A situation where a player is the last defender and risks conceding a goal if they fail to successfully defend against an attacking opponent.<br>\n",
    "\n",
    "<strong>Tackles</strong>: The number of successful tackles made by a player during a match, indicating a defensive action to dispossess an opponent.<br>\n",
    "\n",
    "<strong>ELG</strong>: Acronym for Expected Goals, a statistical measure estimating the probability of a shot resulting in a goal.<br>\n",
    "\n",
    "<strong>OwnGoal</strong>: The number of own goals scored by a player during a match, where they inadvertently score a goal for the opposing team.<br>\n",
    "\n",
    "<strong>Clears</strong>: The number of times a player has successfully cleared the ball from their team's defensive area during a match.<br>\n",
    "\n",
    "<strong>ABW</strong>: Acronym for Aerial Battles Won, representing the number of aerial duels won by a player during a match, indicating successful challenges for the ball in the air.<br>\n",
    "\n",
    "<strong>ABL</strong>: Acronym for Aerial Battles Lost, representing the number of aerial duels lost by a player during a match, indicating unsuccessful challenges for the ball in the air.<br>\n",
    "\n",
    "</p>\n",
    "\n",
    "<br>\n",
    "\n",
    "<hr>\n"
   ]
  },
  {
   "attachments": {},
   "cell_type": "markdown",
   "id": "f6d5258f",
   "metadata": {},
   "source": [
    "<h3> Setup of Data </h3>\n",
    "\n",
    "<p> First steps, I will import all the required python libraries and configure the base directories so that loading each season's dataframe requires less change when moving the data between systems. Each season will have separate analytics completed before merging all seasons together for a roll up view.\n",
    "</p>"
   ]
  },
  {
   "cell_type": "code",
   "execution_count": 35,
   "id": "12bbce13-a945-489a-beb2-23d6c71cd639",
   "metadata": {},
   "outputs": [],
   "source": [
    "import pandas as pd\n",
    "import os\n",
    "import matplotlib.pyplot as plt\n",
    "import seaborn as sbn\n",
    "\n",
    "basedir = os.path.dirname(os.path.abspath(__name__))\n",
    "\n",
    "# Setting up Dataframe\n",
    "player_df = pd.read_csv(os.path.join(basedir,'premierleague.csv'))\n",
    "\n",
    "# Enable view of all features at once\n",
    "pd.set_option('display.max_columns', None)\n"
   ]
  },
  {
   "cell_type": "code",
   "execution_count": 36,
   "id": "940f9a77",
   "metadata": {},
   "outputs": [
    {
     "data": {
      "text/plain": [
       "40"
      ]
     },
     "execution_count": 36,
     "metadata": {},
     "output_type": "execute_result"
    }
   ],
   "source": [
    "player_df.columns.size"
   ]
  },
  {
   "attachments": {},
   "cell_type": "markdown",
   "id": "3c20b7fb",
   "metadata": {},
   "source": [
    "<h4> Reviewing the Features </h4>\n",
    "\n",
    "<p>\n",
    "\n",
    "As we can see below we have a total of 40 features in the given data set. As the scope of this EDA reflects the impact of age on defensive abilities, we will be removing the features related to goal scoring and attacking presence along with market values. There is a space for \"HitPost\" so I've added to the features here. If desired it can be updated on the csv. \n",
    "\n",
    "</p>"
   ]
  },
  {
   "cell_type": "code",
   "execution_count": 37,
   "id": "23cfdaf9",
   "metadata": {},
   "outputs": [
    {
     "data": {
      "text/html": [
       "<div>\n",
       "<style scoped>\n",
       "    .dataframe tbody tr th:only-of-type {\n",
       "        vertical-align: middle;\n",
       "    }\n",
       "\n",
       "    .dataframe tbody tr th {\n",
       "        vertical-align: top;\n",
       "    }\n",
       "\n",
       "    .dataframe thead th {\n",
       "        text-align: right;\n",
       "    }\n",
       "</style>\n",
       "<table border=\"1\" class=\"dataframe\">\n",
       "  <thead>\n",
       "    <tr style=\"text-align: right;\">\n",
       "      <th></th>\n",
       "      <th>Player</th>\n",
       "      <th>Season</th>\n",
       "      <th>Born</th>\n",
       "      <th>Age</th>\n",
       "      <th>Squad</th>\n",
       "      <th>Nation</th>\n",
       "      <th>Position</th>\n",
       "      <th>App</th>\n",
       "      <th>Minutes</th>\n",
       "      <th>Yellow</th>\n",
       "      <th>Red</th>\n",
       "      <th>SubOn</th>\n",
       "      <th>SubOff</th>\n",
       "      <th>HeadClear</th>\n",
       "      <th>Blocks</th>\n",
       "      <th>Interceptions</th>\n",
       "      <th>Fouls</th>\n",
       "      <th>Last man</th>\n",
       "      <th>Tackles</th>\n",
       "      <th>OwnGoal</th>\n",
       "      <th>Clears</th>\n",
       "      <th>ABW</th>\n",
       "      <th>ABL</th>\n",
       "    </tr>\n",
       "  </thead>\n",
       "  <tbody>\n",
       "    <tr>\n",
       "      <th>0</th>\n",
       "      <td>Éder</td>\n",
       "      <td>2015-2016</td>\n",
       "      <td>1987</td>\n",
       "      <td>27</td>\n",
       "      <td>Swansea City</td>\n",
       "      <td>Portugal</td>\n",
       "      <td>FW</td>\n",
       "      <td>13</td>\n",
       "      <td>269</td>\n",
       "      <td>0</td>\n",
       "      <td>0</td>\n",
       "      <td>11</td>\n",
       "      <td>2</td>\n",
       "      <td>5</td>\n",
       "      <td>0</td>\n",
       "      <td>0</td>\n",
       "      <td>11</td>\n",
       "      <td>0</td>\n",
       "      <td>4</td>\n",
       "      <td>0</td>\n",
       "      <td>7</td>\n",
       "      <td>9</td>\n",
       "      <td>20</td>\n",
       "    </tr>\n",
       "    <tr>\n",
       "      <th>1</th>\n",
       "      <td>Álvaro Morata</td>\n",
       "      <td>2017-2018</td>\n",
       "      <td>1992</td>\n",
       "      <td>25</td>\n",
       "      <td>Chelsea</td>\n",
       "      <td>Spain</td>\n",
       "      <td>FW</td>\n",
       "      <td>31</td>\n",
       "      <td>2067</td>\n",
       "      <td>7</td>\n",
       "      <td>0</td>\n",
       "      <td>7</td>\n",
       "      <td>12</td>\n",
       "      <td>13</td>\n",
       "      <td>4</td>\n",
       "      <td>6</td>\n",
       "      <td>41</td>\n",
       "      <td>0</td>\n",
       "      <td>13</td>\n",
       "      <td>0</td>\n",
       "      <td>20</td>\n",
       "      <td>54</td>\n",
       "      <td>59</td>\n",
       "    </tr>\n",
       "    <tr>\n",
       "      <th>2</th>\n",
       "      <td>Álvaro Morata</td>\n",
       "      <td>2018-2019</td>\n",
       "      <td>1992</td>\n",
       "      <td>25</td>\n",
       "      <td>Chelsea</td>\n",
       "      <td>Spain</td>\n",
       "      <td>FW</td>\n",
       "      <td>16</td>\n",
       "      <td>943</td>\n",
       "      <td>0</td>\n",
       "      <td>0</td>\n",
       "      <td>5</td>\n",
       "      <td>7</td>\n",
       "      <td>4</td>\n",
       "      <td>1</td>\n",
       "      <td>0</td>\n",
       "      <td>19</td>\n",
       "      <td>0</td>\n",
       "      <td>8</td>\n",
       "      <td>0</td>\n",
       "      <td>6</td>\n",
       "      <td>18</td>\n",
       "      <td>28</td>\n",
       "    </tr>\n",
       "    <tr>\n",
       "      <th>3</th>\n",
       "      <td>Álvaro Negredo</td>\n",
       "      <td>2016-2017</td>\n",
       "      <td>1985</td>\n",
       "      <td>30</td>\n",
       "      <td>Middlesbrough</td>\n",
       "      <td>Spain</td>\n",
       "      <td>FW</td>\n",
       "      <td>36</td>\n",
       "      <td>2877</td>\n",
       "      <td>5</td>\n",
       "      <td>0</td>\n",
       "      <td>3</td>\n",
       "      <td>13</td>\n",
       "      <td>46</td>\n",
       "      <td>3</td>\n",
       "      <td>10</td>\n",
       "      <td>45</td>\n",
       "      <td>0</td>\n",
       "      <td>18</td>\n",
       "      <td>0</td>\n",
       "      <td>65</td>\n",
       "      <td>175</td>\n",
       "      <td>177</td>\n",
       "    </tr>\n",
       "    <tr>\n",
       "      <th>4</th>\n",
       "      <td>Aaron Cresswell</td>\n",
       "      <td>2018-2019</td>\n",
       "      <td>1989</td>\n",
       "      <td>28</td>\n",
       "      <td>West Ham United</td>\n",
       "      <td>England</td>\n",
       "      <td>DF</td>\n",
       "      <td>20</td>\n",
       "      <td>1590</td>\n",
       "      <td>1</td>\n",
       "      <td>0</td>\n",
       "      <td>2</td>\n",
       "      <td>2</td>\n",
       "      <td>23</td>\n",
       "      <td>7</td>\n",
       "      <td>23</td>\n",
       "      <td>2</td>\n",
       "      <td>1</td>\n",
       "      <td>29</td>\n",
       "      <td>0</td>\n",
       "      <td>42</td>\n",
       "      <td>25</td>\n",
       "      <td>18</td>\n",
       "    </tr>\n",
       "  </tbody>\n",
       "</table>\n",
       "</div>"
      ],
      "text/plain": [
       "            Player     Season  Born   Age            Squad    Nation Position  \\\n",
       "0             Éder  2015-2016   1987   27     Swansea City  Portugal       FW   \n",
       "1    Álvaro Morata  2017-2018   1992   25          Chelsea     Spain       FW   \n",
       "2    Álvaro Morata  2018-2019   1992   25          Chelsea     Spain       FW   \n",
       "3   Álvaro Negredo  2016-2017   1985   30    Middlesbrough     Spain       FW   \n",
       "4  Aaron Cresswell  2018-2019   1989   28  West Ham United   England       DF   \n",
       "\n",
       "   App  Minutes  Yellow  Red  SubOn  SubOff  HeadClear  Blocks  Interceptions  \\\n",
       "0   13      269       0    0     11       2          5       0              0   \n",
       "1   31     2067       7    0      7      12         13       4              6   \n",
       "2   16      943       0    0      5       7          4       1              0   \n",
       "3   36     2877       5    0      3      13         46       3             10   \n",
       "4   20     1590       1    0      2       2         23       7             23   \n",
       "\n",
       "   Fouls  Last man   Tackles  OwnGoal  Clears  ABW  ABL  \n",
       "0     11          0        4        0       7    9   20  \n",
       "1     41          0       13        0      20   54   59  \n",
       "2     19          0        8        0       6   18   28  \n",
       "3     45          0       18        0      65  175  177  \n",
       "4      2          1       29        0      42   25   18  "
      ]
     },
     "execution_count": 37,
     "metadata": {},
     "output_type": "execute_result"
    }
   ],
   "source": [
    "unnecessary_features = ['Previous Market Value', 'Market Value', 'Goals', 'Passes', 'Assists', 'Shots', 'SOT', 'HitPost ', 'HeadGoal', 'PKScored', 'FKGoal', 'Offsides', 'ThrBall', 'Misses', 'Corners', 'Crosses', 'ELG']\n",
    "\n",
    "player_df.drop(unnecessary_features, axis=1, inplace=True)\n",
    "\n",
    "player_df.head()"
   ]
  },
  {
   "attachments": {},
   "cell_type": "markdown",
   "id": "59039e8b",
   "metadata": {},
   "source": [
    "<h4> Summary of Player Data </h4>\n",
    "\n",
    "<p>\n",
    "I've broken out the total number of players based on the positions we are going to review. Although this is a focus on defensive ability, it is very common for forward position to press on dispossession. We will need to find out how skewed the data is in any given part of the pitch. As we can see in the countplot, Midfielders take up the largest portion while defenders are not far behind. Forwards will account for the least amount of players. This spread matches the expected spread based on total number of positions on a football team. \n",
    "\n",
    "</p>"
   ]
  },
  {
   "cell_type": "code",
   "execution_count": 39,
   "id": "8c10fb12",
   "metadata": {},
   "outputs": [
    {
     "data": {
      "text/plain": [
       "<Axes: xlabel='Position', ylabel='count'>"
      ]
     },
     "execution_count": 39,
     "metadata": {},
     "output_type": "execute_result"
    },
    {
     "data": {
      "image/png": "[encoded data removed]",
      "text/plain": [
       "<Figure size 640x480 with 1 Axes>"
      ]
     },
     "metadata": {},
     "output_type": "display_data"
    }
   ],
   "source": [
    "sbn.countplot(player_df,x=\"Position\")"
   ]
  },
  {
   "attachments": {},
   "cell_type": "markdown",
   "id": "a2b42b60",
   "metadata": {},
   "source": [
    "<h4> Numerical Feature Distribution </h4>\n",
    "\n",
    "<p>\n",
    "\n",
    "To understand the numerical features in our given dataset we will be creating a separate dataframe with all of the remaining numerical values and evaluating the distribution finding the mean, median, and mode. Analyzing each feature will allow discovery of any outliers, varience in min/max and if they are reasonable, and any errors during data recording. "
   ]
  },
  {
   "cell_type": "code",
   "execution_count": 45,
   "id": "9ceed683",
   "metadata": {},
   "outputs": [
    {
     "name": "stdout",
     "output_type": "stream",
     "text": [
      "Number of numerical features: 18\n"
     ]
    }
   ],
   "source": [
    "numerical = [var for var in player_df.columns if player_df[var].dtype!= 'O']\n",
    "\n",
    "num_df = player_df[numerical]\n",
    "\n",
    "print(\"Number of numerical features: {}\".format(len(numerical)))"
   ]
  },
  {
   "attachments": {},
   "cell_type": "markdown",
   "id": "7c56ad9c",
   "metadata": {},
   "source": [
    "<h4> Outliers for Age Groups </h4>\n",
    "\n",
    "<p>\n",
    "\n",
    "Breaking down the total number of games a specific age group helps recognize any massive outliers between the age groups. Our total age min maxes also have the smallest group of appearances. The total number of games played by age is well distributed between most of the intervals."
   ]
  },
  {
   "cell_type": "code",
   "execution_count": 87,
   "id": "e7ef4271",
   "metadata": {},
   "outputs": [
    {
     "data": {
      "text/plain": [
       "{27: {'min': 10, 'max': 38, 'median': 28.0},\n",
       " 25: {'min': 10, 'max': 38, 'median': 27.5},\n",
       " 30: {'min': 10, 'max': 38, 'median': 27.0},\n",
       " 28: {'min': 10, 'max': 38, 'median': 26.0},\n",
       " 26: {'min': 10, 'max': 38, 'median': 28.0},\n",
       " 29: {'min': 10, 'max': 38, 'median': 26.0},\n",
       " 31: {'min': 10, 'max': 38, 'median': 26.0},\n",
       " 24: {'min': 10, 'max': 38, 'median': 27.0},\n",
       " 21: {'min': 10, 'max': 38, 'median': 24.0},\n",
       " 23: {'min': 10, 'max': 38, 'median': 27.0},\n",
       " 22: {'min': 10, 'max': 38, 'median': 23.0},\n",
       " 19: {'min': 10, 'max': 34, 'median': 16.0},\n",
       " 20: {'min': 10, 'max': 38, 'median': 23.0},\n",
       " 33: {'min': 14, 'max': 37, 'median': 26.0},\n",
       " 34: {'min': 10, 'max': 38, 'median': 22.0},\n",
       " 32: {'min': 11, 'max': 38, 'median': 25.0},\n",
       " 37: {'min': 12, 'max': 25, 'median': 18.5},\n",
       " 38: {'min': 14, 'max': 14, 'median': 14.0},\n",
       " 18: {'min': 10, 'max': 35, 'median': 25.0},\n",
       " 35: {'min': 23, 'max': 34, 'median': 28.0},\n",
       " 36: {'min': 25, 'max': 36, 'median': 31.0},\n",
       " 17: {'min': 11, 'max': 11, 'median': 11.0}}"
      ]
     },
     "execution_count": 87,
     "metadata": {},
     "output_type": "execute_result"
    }
   ],
   "source": [
    "mean_age = round(num_df[\"Age\"].mean())\n",
    "mode_age = num_df[\"Age\"].mode()\n",
    "min_age = num_df[\"Age\"].min()\n",
    "max_age = num_df[\"Age\"].max()\n",
    "\n",
    "      \n",
    "age_dict = {}\n",
    "\n",
    "for x in num_df[\"Age\"].unique():\n",
    "    new_age_dict = {}\n",
    "    new_age_dict[\"min\"] = num_df[num_df[\"Age\"]== x][\"App\"].min()\n",
    "    new_age_dict[\"max\"] = num_df[num_df[\"Age\"]== x][\"App\"].max()\n",
    "    new_age_dict[\"median\"] = num_df[num_df[\"Age\"]== x][\"App\"].median()\n",
    "    age_dict[x] = new_age_dict\n",
    "\n",
    "age_dict\n"
   ]
  },
  {
   "cell_type": "code",
   "execution_count": 88,
   "id": "c31e6f78",
   "metadata": {},
   "outputs": [
    {
     "data": {
      "text/plain": [
       "<Axes: xlabel='Age', ylabel='App'>"
      ]
     },
     "execution_count": 88,
     "metadata": {},
     "output_type": "execute_result"
    },
    {
     "data": {
      "image/png": "[encoded data removed]",
      "text/plain": [
       "<Figure size 640x480 with 1 Axes>"
      ]
     },
     "metadata": {},
     "output_type": "display_data"
    }
   ],
   "source": [
    "sbn.barplot(num_df,x=\"Age\",y=\"App\")\n"
   ]
  },
  {
   "attachments": {},
   "cell_type": "markdown",
   "id": "18ce5b82",
   "metadata": {},
   "source": [
    "<h4> Correlation with Age and Fouls </h4>\n",
    "\n",
    "<p>\n",
    "\n",
    "Fouls appear to be closely related to features associated with more game time. Losing battles, receiving cards, and number of tackles made. Surprisingly age has a minimal correlation with fouling. Yellow cards were associated with tackles and minuets played, however reds appear to have no close associate with any features.  "
   ]
  },
  {
   "cell_type": "code",
   "execution_count": 99,
   "id": "e4f65f5c",
   "metadata": {},
   "outputs": [
    {
     "data": {
      "text/plain": [
       "<Axes: >"
      ]
     },
     "execution_count": 99,
     "metadata": {},
     "output_type": "execute_result"
    },
    {
     "data": {
      "image/png": "[encoded data removed]",
      "text/plain": [
       "<Figure size 640x480 with 2 Axes>"
      ]
     },
     "metadata": {},
     "output_type": "display_data"
    }
   ],
   "source": [
    "sbn.heatmap(num_df.corr(),vmin=-1, vmax=1,square=True,)"
   ]
  },
  {
   "cell_type": "code",
   "execution_count": 98,
   "id": "6c63d002",
   "metadata": {},
   "outputs": [
    {
     "data": {
      "text/plain": [
       "<Axes: xlabel='Age', ylabel='Fouls'>"
      ]
     },
     "execution_count": 98,
     "metadata": {},
     "output_type": "execute_result"
    },
    {
     "data": {
      "image/png": "[encoded data removed]",
      "text/plain": [
       "<Figure size 640x480 with 1 Axes>"
      ]
     },
     "metadata": {},
     "output_type": "display_data"
    }
   ],
   "source": [
    "sbn.barplot(player_df,x=\"Age\",y=\"Fouls\")"
   ]
  },
  {
   "attachments": {},
   "cell_type": "markdown",
   "id": "34344583",
   "metadata": {},
   "source": []
  },
  {
   "cell_type": "code",
   "execution_count": null,
   "id": "dbee4ef8",
   "metadata": {},
   "outputs": [],
   "source": [
    "sample_df = num_df[num_df[\"Player\"]]\n",
    "\n",
    "# scatter plot to show YOY trend for players with multi year stats?\n",
    "\n",
    "sbn.scatterplot()"
   ]
  }
 ],
 "metadata": {
  "kernelspec": {
   "display_name": "Python 3 (ipykernel)",
   "language": "python",
   "name": "python3"
  },
  "language_info": {
   "codemirror_mode": {
    "name": "ipython",
    "version": 3
   },
   "file_extension": ".py",
   "mimetype": "text/x-python",
   "name": "python",
   "nbconvert_exporter": "python",
   "pygments_lexer": "ipython3",
   "version": "3.10.9"
  }
 },
 "nbformat": 4,
 "nbformat_minor": 5
}
